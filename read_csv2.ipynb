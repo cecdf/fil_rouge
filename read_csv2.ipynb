{
 "cells": [
  {
   "cell_type": "code",
   "execution_count": 1,
   "metadata": {},
   "outputs": [],
   "source": [
    "import csv\n",
    "import numpy as np\n",
    "import pandas as pd"
   ]
  },
  {
   "cell_type": "code",
   "execution_count": 2,
   "metadata": {},
   "outputs": [],
   "source": [
    "csvFile = open(\"reponse.csv\", \"r\")\n",
    "reader = csv.reader(csvFile)\n",
    "list_participant = []\n",
    "for item in reader:\n",
    "    if item[0] not in list_participant: \n",
    "        list_participant.append(item[0])\n",
    "csvFile.close()\n",
    "\n",
    "csvFile = open(\"reponse.csv\", \"r\")\n",
    "reader = csv.reader(csvFile)\n",
    "list1 = []\n",
    "list2 = []\n",
    "list3 = []\n",
    "list4 = []\n",
    "for item in reader:\n",
    "    list1.append(item[0])\n",
    "    list2.append(item[1])\n",
    "    list3.append(item[3])\n",
    "    list4.append(item[4])\n",
    "csvFile.close()\n",
    "data = {'repas': list2, 'temps': list3, 'notes': list4}\n",
    "df_reponse = pd.DataFrame(data, index = list1)"
   ]
  },
  {
   "cell_type": "code",
   "execution_count": 3,
   "metadata": {},
   "outputs": [],
   "source": [
    "csvFile = open(\"repas.csv\", \"r\")\n",
    "reader = csv.reader(csvFile)\n",
    "list1 = []\n",
    "list2 = []\n",
    "list3 = []\n",
    "list4 = []\n",
    "list5 = []\n",
    "for item in reader:\n",
    "    list1.append(item[0])\n",
    "    list2.append(item[1])\n",
    "    list3.append(item[4])\n",
    "    list4.append(item[5])\n",
    "    list5.append(item[6])\n",
    "csvFile.close()\n",
    "data = {'repas':list1, 'id': list2, 'accompagnment': list3, 'protein': list4, 'dessert': list5}\n",
    "df_repas = pd.DataFrame(data)"
   ]
  },
  {
   "cell_type": "code",
   "execution_count": 4,
   "metadata": {},
   "outputs": [],
   "source": [
    "def ddm(series1, series2): \n",
    "    distance1 = 0\n",
    "    distance2 = 0\n",
    "    for i in range(4,7): \n",
    "        distance1 += abs(int(series1[i]) - int(series2[i]))\n",
    "    for i in range(11,14):\n",
    "        distance2 += abs(int(series1[i]) - int(series2[i]))\n",
    "    return distance1, distance2"
   ]
  },
  {
   "cell_type": "code",
   "execution_count": 5,
   "metadata": {},
   "outputs": [],
   "source": [
    "def ddm2(series1, series2): \n",
    "    p = np.array([\n",
    "        [0, 0, 1, 2, 3, 4, 5, 6, 7, 7], \n",
    "        [0, 0, 0, 2, 3, 4, 5, 6, 7, 7], \n",
    "        [1, 0, 0, 4, 6, 2, 7, 3, 5, 5], \n",
    "        [2, 2, 4, 0, 5, 1, 3, 7, 6, 6], \n",
    "        [3, 3, 6, 5, 0, 7, 2, 1, 4, 4], \n",
    "        [4, 4, 2, 1, 7, 0, 6, 5, 3, 3], \n",
    "        [5, 5, 7, 3, 2, 6, 0, 4, 1, 1], \n",
    "        [6, 6, 3, 7, 1, 5, 4, 0, 2, 2], \n",
    "        [7, 7, 5, 6, 4, 3, 1, 2, 0, 0], \n",
    "        [7, 7, 5, 6, 4, 3, 1, 2, 0, 0]\n",
    "    ])\n",
    "    v = np.array([\n",
    "        [0, 7, 7, 5, 6, 4, 4, 1, 7, 6], \n",
    "        [7, 0, 4, 1, 2, 6, 7, 5, 2, 4], \n",
    "        [7, 4, 0, 4, 4, 5, 3, 7, 1, 2], \n",
    "        [5, 1, 4, 0, 4, 6, 7, 7, 4, 4], \n",
    "        [6, 2, 4, 4, 0, 7, 7, 3, 2, 1], \n",
    "        [4, 6, 5, 6, 7, 0, 2, 4, 7, 5], \n",
    "        [4, 7, 3, 7, 7, 2, 0, 4, 6, 5], \n",
    "        [1, 5, 7, 7, 3, 4, 4, 0, 5, 6], \n",
    "        [7, 2, 1, 4, 2, 7, 6, 5, 0, 4], \n",
    "        [6, 4, 2, 4, 1, 5, 5, 6, 4, 0]\n",
    "    ])\n",
    "    distance1 = p[int(series1[3])-1][int(series2[3])-1]\n",
    "    distance2 = v[int(series1[10])-1][int(series2[10])-1]\n",
    "    return distance1, distance2"
   ]
  },
  {
   "cell_type": "code",
   "execution_count": 6,
   "metadata": {},
   "outputs": [
    {
     "name": "stderr",
     "output_type": "stream",
     "text": [
      "H:\\anacoda\\lib\\site-packages\\ipykernel_launcher.py:39: DeprecationWarning: \n",
      ".ix is deprecated. Please use\n",
      ".loc for label based indexing or\n",
      ".iloc for positional indexing\n",
      "\n",
      "See the documentation here:\n",
      "http://pandas.pydata.org/pandas-docs/stable/indexing.html#ix-indexer-is-deprecated\n"
     ]
    }
   ],
   "source": [
    "frames = []\n",
    "for i in range(0, len(list_participant)-1): \n",
    "    df_participant = df_reponse[df_reponse.index == list_participant[i]]\n",
    "    df_participant1 = pd.merge(df_participant, df_repas, on = 'repas')\n",
    "    df_participant1.index = df_participant.index\n",
    "    df_participant2 = pd.concat([df_participant1[0:10].sort_values(by = \"temps\"), \n",
    "                                 df_participant1[10:20].sort_values(by = \"temps\")], \n",
    "                                 axis = 1)\n",
    "    df_participant2.columns = ['repas_p', 'temps_p', 'notes_p', \n",
    "                               'i_p', 'a_p', 'p_p', 'd_p', \n",
    "                               'repas_v', 'temps_v', 'notes_v', \n",
    "                               'i_v', 'a_v', 'p_v', 'd_v']\n",
    "    df_participant3 = pd.DataFrame([\n",
    "        df_participant2.iloc[0], \n",
    "        df_participant2.iloc[2], \n",
    "        df_participant2.iloc[4], \n",
    "        df_participant2.iloc[6], \n",
    "        df_participant2.iloc[8]\n",
    "    ])\n",
    "    df_participant4 = pd.DataFrame([\n",
    "        df_participant2.iloc[1], \n",
    "        df_participant2.iloc[3], \n",
    "        df_participant2.iloc[5], \n",
    "        df_participant2.iloc[7], \n",
    "        df_participant2.iloc[9]\n",
    "    ])\n",
    "    df_participant5 = pd.concat([df_participant2, df_participant3, df_participant4])\n",
    "    list1 = []\n",
    "    list2 = []\n",
    "    for i in range(0,20):\n",
    "        if i < 19:\n",
    "            list1.append(ddm(df_participant5.iloc[i], df_participant5.iloc[i+1])[0])\n",
    "            list2.append(ddm(df_participant5.iloc[i], df_participant5.iloc[i+1])[1])\n",
    "        else: \n",
    "            list1.append(ddm(df_participant5.iloc[i], df_participant5.iloc[0])[0])\n",
    "            list2.append(ddm(df_participant5.iloc[i], df_participant5.iloc[0])[1])\n",
    "    df_participant5['score_p'] = list1\n",
    "    df_participant5['score_v'] = list2\n",
    "    df_participant6 = df_participant5.ix[:,[3,2,14,10,9,15]]\n",
    "    frames.append(df_participant6)"
   ]
  },
  {
   "cell_type": "code",
   "execution_count": 7,
   "metadata": {},
   "outputs": [],
   "source": [
    "result1 = pd.concat(frames)\n",
    "result1[0:20]\n",
    "result1.to_csv('result2.csv')"
   ]
  },
  {
   "cell_type": "code",
   "execution_count": 8,
   "metadata": {},
   "outputs": [
    {
     "name": "stderr",
     "output_type": "stream",
     "text": [
      "H:\\anacoda\\lib\\site-packages\\ipykernel_launcher.py:39: DeprecationWarning: \n",
      ".ix is deprecated. Please use\n",
      ".loc for label based indexing or\n",
      ".iloc for positional indexing\n",
      "\n",
      "See the documentation here:\n",
      "http://pandas.pydata.org/pandas-docs/stable/indexing.html#ix-indexer-is-deprecated\n"
     ]
    }
   ],
   "source": [
    "frames2 = []\n",
    "for i in range(0, len(list_participant)-1): \n",
    "    df_participant = df_reponse[df_reponse.index == list_participant[i]]\n",
    "    df_participant1 = pd.merge(df_participant, df_repas, on = 'repas')\n",
    "    df_participant1.index = df_participant.index\n",
    "    df_participant2 = pd.concat([df_participant1[0:10].sort_values(by = \"temps\"), \n",
    "                                 df_participant1[10:20].sort_values(by = \"temps\")], \n",
    "                                 axis = 1)\n",
    "    df_participant2.columns = ['repas_p', 'temps_p', 'notes_p', \n",
    "                               'i_p', 'a_p', 'p_p', 'd_p', \n",
    "                               'repas_v', 'temps_v', 'notes_v', \n",
    "                               'i_v', 'a_v', 'p_v', 'd_v']\n",
    "    df_participant3 = pd.DataFrame([\n",
    "        df_participant2.iloc[0], \n",
    "        df_participant2.iloc[2], \n",
    "        df_participant2.iloc[4], \n",
    "        df_participant2.iloc[6], \n",
    "        df_participant2.iloc[8]\n",
    "    ])\n",
    "    df_participant4 = pd.DataFrame([\n",
    "        df_participant2.iloc[1], \n",
    "        df_participant2.iloc[3], \n",
    "        df_participant2.iloc[5], \n",
    "        df_participant2.iloc[7], \n",
    "        df_participant2.iloc[9]\n",
    "    ])\n",
    "    df_participant5 = pd.concat([df_participant2, df_participant3, df_participant4])\n",
    "    list1 = []\n",
    "    list2 = []\n",
    "    for i in range(0,20):\n",
    "        if i < 19:\n",
    "            list1.append(ddm2(df_participant5.iloc[i], df_participant5.iloc[i+1])[0])\n",
    "            list2.append(ddm2(df_participant5.iloc[i], df_participant5.iloc[i+1])[1])\n",
    "        else: \n",
    "            list1.append(ddm2(df_participant5.iloc[i], df_participant5.iloc[0])[0])\n",
    "            list2.append(ddm2(df_participant5.iloc[i], df_participant5.iloc[0])[1])\n",
    "    df_participant5['score_p'] = list1\n",
    "    df_participant5['score_v'] = list2\n",
    "    df_participant6 = df_participant5.ix[:,[3,2,14,10,9,15]]\n",
    "    frames2.append(df_participant6)"
   ]
  },
  {
   "cell_type": "code",
   "execution_count": 9,
   "metadata": {},
   "outputs": [],
   "source": [
    "result2 = pd.concat(frames2)\n",
    "result2[0:20]\n",
    "result2.to_csv('result3.csv')"
   ]
  }
 ],
 "metadata": {
  "kernelspec": {
   "display_name": "Python 3",
   "language": "python",
   "name": "python3"
  },
  "language_info": {
   "codemirror_mode": {
    "name": "ipython",
    "version": 3
   },
   "file_extension": ".py",
   "mimetype": "text/x-python",
   "name": "python",
   "nbconvert_exporter": "python",
   "pygments_lexer": "ipython3",
   "version": "3.6.5"
  },
  "varInspector": {
   "cols": {
    "lenName": 16,
    "lenType": 16,
    "lenVar": 40
   },
   "kernels_config": {
    "python": {
     "delete_cmd_postfix": "",
     "delete_cmd_prefix": "del ",
     "library": "var_list.py",
     "varRefreshCmd": "print(var_dic_list())"
    },
    "r": {
     "delete_cmd_postfix": ") ",
     "delete_cmd_prefix": "rm(",
     "library": "var_list.r",
     "varRefreshCmd": "cat(var_dic_list()) "
    }
   },
   "types_to_exclude": [
    "module",
    "function",
    "builtin_function_or_method",
    "instance",
    "_Feature"
   ],
   "window_display": false
  }
 },
 "nbformat": 4,
 "nbformat_minor": 2
}
