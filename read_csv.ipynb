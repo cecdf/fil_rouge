{
 "cells": [
  {
   "cell_type": "code",
   "execution_count": 1,
   "metadata": {},
   "outputs": [],
   "source": [
    "import csv\n",
    "import numpy as np\n",
    "import pandas as pd"
   ]
  },
  {
   "cell_type": "markdown",
   "metadata": {},
   "source": [
    "list_participant is used to store the number of participant."
   ]
  },
  {
   "cell_type": "code",
   "execution_count": 2,
   "metadata": {},
   "outputs": [],
   "source": [
    "csvFile = open(\"reponse.csv\", \"r\")\n",
    "reader = csv.reader(csvFile)\n",
    "list_participant = []\n",
    "for item in reader:\n",
    "    if item[0] not in list_participant: \n",
    "        list_participant.append(item[0])\n",
    "csvFile.close()"
   ]
  },
  {
   "cell_type": "markdown",
   "metadata": {},
   "source": [
    "data frame df_reponse is used to store the data of database table reponse (only with repas, temps and notes)"
   ]
  },
  {
   "cell_type": "code",
   "execution_count": 3,
   "metadata": {},
   "outputs": [],
   "source": [
    "csvFile = open(\"reponse.csv\", \"r\")\n",
    "reader = csv.reader(csvFile)\n",
    "list1 = []\n",
    "list2 = []\n",
    "list3 = []\n",
    "list4 = []\n",
    "for item in reader:\n",
    "    list1.append(item[0])\n",
    "    list2.append(item[1])\n",
    "    list3.append(item[3])\n",
    "    list4.append(item[4])\n",
    "csvFile.close()\n",
    "data = {'repas': list2, 'temps': list3, 'notes': list4}\n",
    "df_reponse = pd.DataFrame(data, index = list1)"
   ]
  },
  {
   "cell_type": "markdown",
   "metadata": {},
   "source": [
    "data frame df_repas is used to store the data of database table repas (only with repas, id, accompagnment, protein and dessert)"
   ]
  },
  {
   "cell_type": "code",
   "execution_count": 4,
   "metadata": {},
   "outputs": [],
   "source": [
    "csvFile = open(\"repas.csv\", \"r\")\n",
    "reader = csv.reader(csvFile)\n",
    "list1 = []\n",
    "list2 = []\n",
    "list3 = []\n",
    "list4 = []\n",
    "list5 = []\n",
    "for item in reader:\n",
    "    list1.append(item[0])\n",
    "    list2.append(item[1])\n",
    "    list3.append(item[4])\n",
    "    list4.append(item[5])\n",
    "    list5.append(item[6])\n",
    "csvFile.close()\n",
    "data = {'repas':list1, 'id': list2, 'accompagnment': list3, 'protein': list4, 'dessert': list5}\n",
    "df_repas = pd.DataFrame(data)"
   ]
  },
  {
   "cell_type": "markdown",
   "metadata": {},
   "source": [
    "function ddm is defined to calculate the Manhaten distance of two repas, where distance1 refers to distance of repas peu variée, distance2 refers to distance of repas variée"
   ]
  },
  {
   "cell_type": "code",
   "execution_count": 5,
   "metadata": {},
   "outputs": [],
   "source": [
    "def ddm(series1, series2): \n",
    "    distance1 = 0\n",
    "    distance2 = 0\n",
    "    for i in range(4,7): \n",
    "        distance1 += abs(int(series1[i]) - int(series2[i]))\n",
    "    for i in range(11,14):\n",
    "        distance2 += abs(int(series1[i]) - int(series2[i]))\n",
    "    return distance1, distance2"
   ]
  },
  {
   "cell_type": "markdown",
   "metadata": {},
   "source": [
    "in this for loop, we first merge dataframe of each participant and df_repas, then calculate two distance."
   ]
  },
  {
   "cell_type": "code",
   "execution_count": 7,
   "metadata": {},
   "outputs": [
    {
     "name": "stderr",
     "output_type": "stream",
     "text": [
      "H:\\anacoda\\lib\\site-packages\\ipykernel_launcher.py:24: DeprecationWarning: \n",
      ".ix is deprecated. Please use\n",
      ".loc for label based indexing or\n",
      ".iloc for positional indexing\n",
      "\n",
      "See the documentation here:\n",
      "http://pandas.pydata.org/pandas-docs/stable/indexing.html#ix-indexer-is-deprecated\n"
     ]
    }
   ],
   "source": [
    "frames = []\n",
    "for i in range(0, len(list_participant)-1): \n",
    "    df_participant = df_reponse[df_reponse.index == list_participant[i]]\n",
    "    df_participant1 = pd.merge(df_participant, df_repas, on = 'repas')\n",
    "    df_participant1.index = df_participant.index\n",
    "    df_participant2 = pd.concat([df_participant1[0:10].sort_values(by = \"temps\"), \n",
    "                                 df_participant1[10:20].sort_values(by = \"temps\")], \n",
    "                                 axis = 1)\n",
    "    df_participant2.columns = ['repas_p', 'temps_p', 'notes_p', \n",
    "                               'i_p', 'a_p', 'p_p', 'd_p', \n",
    "                               'repas_v', 'temps_v', 'notes_v', \n",
    "                               'i_v', 'a_v', 'p_v', 'd_v']\n",
    "    list1 = []\n",
    "    list2 = []\n",
    "    for i in range(0,10):\n",
    "        if i < 9:\n",
    "            list1.append(ddm(df_participant2.iloc[i], df_participant2.iloc[i+1])[0])\n",
    "            list2.append(ddm(df_participant2.iloc[i], df_participant2.iloc[i+1])[1])\n",
    "        else: \n",
    "            list1.append(ddm(df_participant2.iloc[i], df_participant2.iloc[0])[0])\n",
    "            list2.append(ddm(df_participant2.iloc[i], df_participant2.iloc[0])[1])\n",
    "    df_participant2['score_p'] = list1\n",
    "    df_participant2['score_v'] = list2\n",
    "    df_participant3 = df_participant2.ix[:,[3,2,14,10,9,15]]\n",
    "    frames.append(df_participant3)"
   ]
  },
  {
   "cell_type": "markdown",
   "metadata": {},
   "source": [
    "finally we return a dataframe contains the id, note and distance of two type of repas (i.g. i_p means id peu variée, and i_v means id variée)"
   ]
  },
  {
   "cell_type": "code",
   "execution_count": 8,
   "metadata": {},
   "outputs": [
    {
     "data": {
      "text/html": [
       "<div>\n",
       "<style scoped>\n",
       "    .dataframe tbody tr th:only-of-type {\n",
       "        vertical-align: middle;\n",
       "    }\n",
       "\n",
       "    .dataframe tbody tr th {\n",
       "        vertical-align: top;\n",
       "    }\n",
       "\n",
       "    .dataframe thead th {\n",
       "        text-align: right;\n",
       "    }\n",
       "</style>\n",
       "<table border=\"1\" class=\"dataframe\">\n",
       "  <thead>\n",
       "    <tr style=\"text-align: right;\">\n",
       "      <th></th>\n",
       "      <th>i_p</th>\n",
       "      <th>notes_p</th>\n",
       "      <th>score_p</th>\n",
       "      <th>i_v</th>\n",
       "      <th>notes_v</th>\n",
       "      <th>score_v</th>\n",
       "    </tr>\n",
       "  </thead>\n",
       "  <tbody>\n",
       "    <tr>\n",
       "      <th>30</th>\n",
       "      <td>1</td>\n",
       "      <td>5</td>\n",
       "      <td>3</td>\n",
       "      <td>2</td>\n",
       "      <td>4</td>\n",
       "      <td>2</td>\n",
       "    </tr>\n",
       "    <tr>\n",
       "      <th>30</th>\n",
       "      <td>7</td>\n",
       "      <td>4</td>\n",
       "      <td>0</td>\n",
       "      <td>6</td>\n",
       "      <td>3</td>\n",
       "      <td>3</td>\n",
       "    </tr>\n",
       "    <tr>\n",
       "      <th>30</th>\n",
       "      <td>8</td>\n",
       "      <td>4</td>\n",
       "      <td>1</td>\n",
       "      <td>9</td>\n",
       "      <td>2</td>\n",
       "      <td>2</td>\n",
       "    </tr>\n",
       "    <tr>\n",
       "      <th>30</th>\n",
       "      <td>4</td>\n",
       "      <td>4</td>\n",
       "      <td>2</td>\n",
       "      <td>8</td>\n",
       "      <td>2</td>\n",
       "      <td>2</td>\n",
       "    </tr>\n",
       "    <tr>\n",
       "      <th>30</th>\n",
       "      <td>9</td>\n",
       "      <td>4</td>\n",
       "      <td>1</td>\n",
       "      <td>5</td>\n",
       "      <td>3</td>\n",
       "      <td>1</td>\n",
       "    </tr>\n",
       "  </tbody>\n",
       "</table>\n",
       "</div>"
      ],
      "text/plain": [
       "   i_p notes_p  score_p i_v notes_v  score_v\n",
       "30   1       5        3   2       4        2\n",
       "30   7       4        0   6       3        3\n",
       "30   8       4        1   9       2        2\n",
       "30   4       4        2   8       2        2\n",
       "30   9       4        1   5       3        1"
      ]
     },
     "execution_count": 8,
     "metadata": {},
     "output_type": "execute_result"
    }
   ],
   "source": [
    "result = pd.concat(frames)\n",
    "result.head()"
   ]
  },
  {
   "cell_type": "markdown",
   "metadata": {},
   "source": [
    "all the data stored into result1.csv"
   ]
  },
  {
   "cell_type": "code",
   "execution_count": 10,
   "metadata": {},
   "outputs": [],
   "source": [
    "result.to_csv('result1.csv')"
   ]
  }
 ],
 "metadata": {
  "kernelspec": {
   "display_name": "Python 3",
   "language": "python",
   "name": "python3"
  },
  "language_info": {
   "codemirror_mode": {
    "name": "ipython",
    "version": 3
   },
   "file_extension": ".py",
   "mimetype": "text/x-python",
   "name": "python",
   "nbconvert_exporter": "python",
   "pygments_lexer": "ipython3",
   "version": "3.6.5"
  },
  "varInspector": {
   "cols": {
    "lenName": 16,
    "lenType": 16,
    "lenVar": 40
   },
   "kernels_config": {
    "python": {
     "delete_cmd_postfix": "",
     "delete_cmd_prefix": "del ",
     "library": "var_list.py",
     "varRefreshCmd": "print(var_dic_list())"
    },
    "r": {
     "delete_cmd_postfix": ") ",
     "delete_cmd_prefix": "rm(",
     "library": "var_list.r",
     "varRefreshCmd": "cat(var_dic_list()) "
    }
   },
   "position": {
    "height": "441px",
    "left": "557px",
    "right": "20px",
    "top": "120px",
    "width": "350px"
   },
   "types_to_exclude": [
    "module",
    "function",
    "builtin_function_or_method",
    "instance",
    "_Feature"
   ],
   "window_display": false
  }
 },
 "nbformat": 4,
 "nbformat_minor": 2
}
