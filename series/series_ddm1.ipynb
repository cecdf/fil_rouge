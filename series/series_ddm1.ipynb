{
 "cells": [
  {
   "cell_type": "code",
   "execution_count": 1,
   "metadata": {},
   "outputs": [],
   "source": [
    "import csv\n",
    "import numpy as np\n",
    "import pandas as pd"
   ]
  },
  {
   "cell_type": "code",
   "execution_count": 2,
   "metadata": {},
   "outputs": [],
   "source": [
    "csvFile = open(\"reponse.csv\", \"r\")\n",
    "reader = csv.reader(csvFile)\n",
    "list_participant = []\n",
    "for item in reader:\n",
    "    if item[0] not in list_participant: \n",
    "        list_participant.append(item[0])\n",
    "csvFile.close()\n",
    "\n",
    "csvFile = open(\"reponse.csv\", \"r\")\n",
    "reader = csv.reader(csvFile)\n",
    "list1 = []\n",
    "list2 = []\n",
    "list3 = []\n",
    "list4 = []\n",
    "for item in reader:\n",
    "    list1.append(item[0])\n",
    "    list2.append(item[1])\n",
    "    list3.append(item[3])\n",
    "    list4.append(item[4])\n",
    "csvFile.close()\n",
    "data = {'repas': list2, 'temps': list3, 'notes': list4}\n",
    "df_reponse = pd.DataFrame(data, index = list1)"
   ]
  },
  {
   "cell_type": "code",
   "execution_count": 3,
   "metadata": {},
   "outputs": [],
   "source": [
    "csvFile = open(\"repas.csv\", \"r\")\n",
    "reader = csv.reader(csvFile)\n",
    "list1 = []\n",
    "list2 = []\n",
    "list3 = []\n",
    "list4 = []\n",
    "list5 = []\n",
    "for item in reader:\n",
    "    list1.append(item[0])\n",
    "    list2.append(item[1])\n",
    "    list3.append(item[4])\n",
    "    list4.append(item[5])\n",
    "    list5.append(item[6])\n",
    "csvFile.close()\n",
    "data = {'repas':list1, 'id': list2, 'accompagnment': list3, 'protein': list4, 'dessert': list5}\n",
    "df_repas = pd.DataFrame(data)"
   ]
  },
  {
   "cell_type": "code",
   "execution_count": 4,
   "metadata": {},
   "outputs": [],
   "source": [
    "def ddm(series1, series2): \n",
    "    distance1 = 0\n",
    "    distance2 = 0\n",
    "    for i in range(4,7): \n",
    "        distance1 += abs(int(series1[i]) - int(series2[i]))\n",
    "    for i in range(11,14):\n",
    "        distance2 += abs(int(series1[i]) - int(series2[i]))\n",
    "    return distance1, distance2"
   ]
  },
  {
   "cell_type": "code",
   "execution_count": 5,
   "metadata": {},
   "outputs": [],
   "source": [
    "Ap = []; MSp = []; SMp = []; MMp = []; SSp = []\n",
    "Av = []; MSv = []; SMv = []; MMv = []; SSv = []"
   ]
  },
  {
   "cell_type": "code",
   "execution_count": 6,
   "metadata": {},
   "outputs": [
    {
     "name": "stderr",
     "output_type": "stream",
     "text": [
      "H:\\anacoda\\lib\\site-packages\\ipykernel_launcher.py:39: DeprecationWarning: \n",
      ".ix is deprecated. Please use\n",
      ".loc for label based indexing or\n",
      ".iloc for positional indexing\n",
      "\n",
      "See the documentation here:\n",
      "http://pandas.pydata.org/pandas-docs/stable/indexing.html#ix-indexer-is-deprecated\n"
     ]
    }
   ],
   "source": [
    "for i in range(0, len(list_participant)-1): \n",
    "    name = list_participant[i]\n",
    "    df_participant = df_reponse[df_reponse.index == list_participant[i]]\n",
    "    df_participant1 = pd.merge(df_participant, df_repas, on = 'repas')\n",
    "    df_participant1.index = df_participant.index\n",
    "    df_participant2 = pd.concat([df_participant1[0:10].sort_values(by = \"temps\"), \n",
    "                                 df_participant1[10:20].sort_values(by = \"temps\")], \n",
    "                                 axis = 1)\n",
    "    df_participant2.columns = ['repas_p', 'temps_p', 'notes_p', \n",
    "                               'i_p', 'a_p', 'p_p', 'd_p', \n",
    "                               'repas_v', 'temps_v', 'notes_v', \n",
    "                               'i_v', 'a_v', 'p_v', 'd_v']\n",
    "    df_participant3 = pd.DataFrame([\n",
    "        df_participant2.iloc[0], \n",
    "        df_participant2.iloc[2], \n",
    "        df_participant2.iloc[4], \n",
    "        df_participant2.iloc[6], \n",
    "        df_participant2.iloc[8]\n",
    "    ])\n",
    "    df_participant4 = pd.DataFrame([\n",
    "        df_participant2.iloc[1], \n",
    "        df_participant2.iloc[3], \n",
    "        df_participant2.iloc[5], \n",
    "        df_participant2.iloc[7], \n",
    "        df_participant2.iloc[9]\n",
    "    ])\n",
    "    df_participant5 = pd.concat([df_participant2, df_participant3, df_participant4])\n",
    "    list1 = []\n",
    "    list2 = []\n",
    "    for i in range(0,20):\n",
    "        if i < 19:\n",
    "            list1.append(ddm(df_participant5.iloc[i], df_participant5.iloc[i+1])[0])\n",
    "            list2.append(ddm(df_participant5.iloc[i], df_participant5.iloc[i+1])[1])\n",
    "        else: \n",
    "            list1.append(ddm(df_participant5.iloc[i], df_participant5.iloc[0])[0])\n",
    "            list2.append(ddm(df_participant5.iloc[i], df_participant5.iloc[0])[1])\n",
    "    df_participant5['score_p'] = list1\n",
    "    df_participant5['score_v'] = list2\n",
    "    test = df_participant5.ix[:,[3,2,14,10,9,15]]\n",
    "    \n",
    "    ap = []; msp = []; smp = []; mmp = []; ssp = []\n",
    "    av = []; msv = []; smv = []; mmv = []; ssv = []\n",
    "    for i in range(0, 19): \n",
    "        if i < 9: \n",
    "            ap.append(test.iloc[i][2])\n",
    "            av.append(test.iloc[i][5])\n",
    "            if i%2 == 0: \n",
    "                msp.append(test.iloc[i][2])\n",
    "                msv.append(test.iloc[i][5])\n",
    "            else: \n",
    "                smp.append(test.iloc[i][2])\n",
    "                smv.append(test.iloc[i][5])\n",
    "        elif i ==9: \n",
    "            i += 1\n",
    "        elif i < 14: \n",
    "            mmp.append(test.iloc[i][2])\n",
    "            mmv.append(test.iloc[i][5])\n",
    "        elif i == 14: \n",
    "            i += 1    \n",
    "        elif i < 19:\n",
    "            ssp.append(test.iloc[i][2])\n",
    "            ssv.append(test.iloc[i][5])\n",
    "            \n",
    "    Ap.append([name, ap]);  Av.append([name, av])\n",
    "    MSp.append([name, msp]);MSv.append([name, msv])\n",
    "    SMp.append([name, smp]);SMv.append([name, smv])\n",
    "    MMp.append([name, mmp]);MMv.append([name, mmv])\n",
    "    SSp.append([name, ssp]);SSv.append([name, ssv])"
   ]
  },
  {
   "cell_type": "code",
   "execution_count": 7,
   "metadata": {},
   "outputs": [],
   "source": [
    "df_Ap = pd.DataFrame(Ap)\n",
    "df_Ap.columns = [\"participant\", \"series_total_peu\"]\n",
    "df_Ap.index = df_Ap[\"participant\"]\n",
    "df_Ap = df_Ap.drop(columns = [\"participant\"])\n",
    "df_Ap.to_csv(\"seris_total_peu.csv\")"
   ]
  },
  {
   "cell_type": "code",
   "execution_count": 8,
   "metadata": {},
   "outputs": [],
   "source": [
    "df_Av = pd.DataFrame(Av)\n",
    "df_Av.columns = [\"participant\", \"series_total_var\"]\n",
    "df_Av.index = df_Av[\"participant\"]\n",
    "df_Av = df_Av.drop(columns = [\"participant\"])\n",
    "df_Av.to_csv(\"seris_total_var.csv\")"
   ]
  },
  {
   "cell_type": "code",
   "execution_count": 9,
   "metadata": {},
   "outputs": [],
   "source": [
    "df_MSp = pd.DataFrame(MSp)\n",
    "df_MSp.columns = [\"participant\", \"series_matsoi_peu\"]\n",
    "df_MSp.index = df_MSp[\"participant\"]\n",
    "df_MSp = df_MSp.drop(columns = [\"participant\"])\n",
    "df_MSp.to_csv(\"series_matsoi_peu.csv\")"
   ]
  },
  {
   "cell_type": "code",
   "execution_count": 10,
   "metadata": {},
   "outputs": [],
   "source": [
    "df_MSv = pd.DataFrame(MSv)\n",
    "df_MSv.columns = [\"participant\", \"series_matsoi_var\"]\n",
    "df_MSv.index = df_MSv[\"participant\"]\n",
    "df_MSv = df_MSv.drop(columns = [\"participant\"])\n",
    "df_MSv.to_csv(\"series_matsoi_var.csv\")"
   ]
  },
  {
   "cell_type": "code",
   "execution_count": 11,
   "metadata": {},
   "outputs": [],
   "source": [
    "df_MMp = pd.DataFrame(MMp)\n",
    "df_MMp.columns = [\"participant\", \"series_matmat_peu\"]\n",
    "df_MMp.index = df_MMp[\"participant\"]\n",
    "df_MMp = df_MMp.drop(columns = [\"participant\"])\n",
    "df_MMp.to_csv(\"series_matmat_peu.csv\")"
   ]
  },
  {
   "cell_type": "code",
   "execution_count": 12,
   "metadata": {},
   "outputs": [],
   "source": [
    "df_MMv = pd.DataFrame(MMv)\n",
    "df_MMv.columns = [\"participant\", \"series_matmat_var\"]\n",
    "df_MMv.index = df_MMv[\"participant\"]\n",
    "df_MMv = df_MMv.drop(columns = [\"participant\"])\n",
    "df_MMv.to_csv(\"series_matmat_var.csv\")"
   ]
  },
  {
   "cell_type": "code",
   "execution_count": 13,
   "metadata": {},
   "outputs": [],
   "source": [
    "df_SMp = pd.DataFrame(SMp)\n",
    "df_SMp.columns = [\"participant\", \"series_soimat_peu\"]\n",
    "df_SMp.index = df_SMp[\"participant\"]\n",
    "df_SMp = df_SMp.drop(columns = [\"participant\"])\n",
    "df_SMp.to_csv(\"series_soimat_peu.csv\")"
   ]
  },
  {
   "cell_type": "code",
   "execution_count": 14,
   "metadata": {},
   "outputs": [],
   "source": [
    "df_SMv = pd.DataFrame(SMv)\n",
    "df_SMv.columns = [\"participant\", \"series_soimat_var\"]\n",
    "df_SMv.index = df_SMv[\"participant\"]\n",
    "df_SMv = df_SMv.drop(columns = [\"participant\"])\n",
    "df_SMv.to_csv(\"series_soimat_var.csv\")"
   ]
  },
  {
   "cell_type": "code",
   "execution_count": 15,
   "metadata": {},
   "outputs": [],
   "source": [
    "df_SSp = pd.DataFrame(SSp)\n",
    "df_SSp.columns = [\"participant\", \"series_soisoi_peu\"]\n",
    "df_SSp.index = df_SSp[\"participant\"]\n",
    "df_SSp = df_SSp.drop(columns = [\"participant\"])\n",
    "df_SSp.to_csv(\"series_soisoi_peu.csv\")"
   ]
  },
  {
   "cell_type": "code",
   "execution_count": 16,
   "metadata": {},
   "outputs": [],
   "source": [
    "df_SSv = pd.DataFrame(SSv)\n",
    "df_SSv.columns = [\"participant\", \"series_soisoi_var\"]\n",
    "df_SSv.index = df_SSv[\"participant\"]\n",
    "df_SSv = df_SSv.drop(columns = [\"participant\"])\n",
    "df_SSv.to_csv(\"series_soisoi_var.csv\")"
   ]
  },
  {
   "cell_type": "code",
   "execution_count": null,
   "metadata": {},
   "outputs": [],
   "source": []
  }
 ],
 "metadata": {
  "kernelspec": {
   "display_name": "Python 3",
   "language": "python",
   "name": "python3"
  },
  "language_info": {
   "codemirror_mode": {
    "name": "ipython",
    "version": 3
   },
   "file_extension": ".py",
   "mimetype": "text/x-python",
   "name": "python",
   "nbconvert_exporter": "python",
   "pygments_lexer": "ipython3",
   "version": "3.6.5"
  },
  "varInspector": {
   "cols": {
    "lenName": 16,
    "lenType": 16,
    "lenVar": 40
   },
   "kernels_config": {
    "python": {
     "delete_cmd_postfix": "",
     "delete_cmd_prefix": "del ",
     "library": "var_list.py",
     "varRefreshCmd": "print(var_dic_list())"
    },
    "r": {
     "delete_cmd_postfix": ") ",
     "delete_cmd_prefix": "rm(",
     "library": "var_list.r",
     "varRefreshCmd": "cat(var_dic_list()) "
    }
   },
   "types_to_exclude": [
    "module",
    "function",
    "builtin_function_or_method",
    "instance",
    "_Feature"
   ],
   "window_display": false
  }
 },
 "nbformat": 4,
 "nbformat_minor": 2
}
